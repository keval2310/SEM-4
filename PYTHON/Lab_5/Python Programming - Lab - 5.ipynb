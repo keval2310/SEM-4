{
 "cells": [
  {
   "cell_type": "markdown",
   "metadata": {},
   "source": [
    "\n",
    "<a href='https://www.darshan.ac.in/'> <img src='https://www.darshan.ac.in/Content/media/DU_Logo.svg' width=\"250\" height=\"300\"/></a>\n",
    "<pre>\n",
    "<center><b><h1>Python Programming - 2301CS404</b></center>\n",
    "<center><b><h1>Lab - 5</b></center>    \n",
    "     <center><b><h1>Keval Dhandhukiya</b></center>\n",
    "          <center><b><h1>23010101064</b></center>\n",
    "<pre>"
   ]
  },
  {
   "cell_type": "markdown",
   "metadata": {},
   "source": [
    "# List"
   ]
  },
  {
   "cell_type": "markdown",
   "metadata": {},
   "source": [
    "### 01) WAP to find sum of all the elements in a List."
   ]
  },
  {
   "cell_type": "code",
   "execution_count": 11,
   "metadata": {},
   "outputs": [
    {
     "name": "stdout",
     "output_type": "stream",
     "text": [
      "1\n",
      "5\n",
      "11\n",
      "19\n"
     ]
    }
   ],
   "source": [
    "l1 = [1,4,6,8]\n",
    "sum = 0\n",
    "for i in range(0,4):\n",
    "    sum = sum + l1[i]\n",
    "    print(sum)"
   ]
  },
  {
   "cell_type": "markdown",
   "metadata": {},
   "source": [
    "### 02) WAP to find largest element in a List."
   ]
  },
  {
   "cell_type": "code",
   "execution_count": 21,
   "metadata": {},
   "outputs": [
    {
     "name": "stdout",
     "output_type": "stream",
     "text": [
      "8\n"
     ]
    }
   ],
   "source": [
    "l2 = [2,5,7,8]\n",
    "max = l2[0]\n",
    "for i in range(0,4):\n",
    "    \n",
    "    if(max<l2[i]):\n",
    "        max = l2[i]\n",
    "print(max)"
   ]
  },
  {
   "cell_type": "markdown",
   "metadata": {},
   "source": [
    "### 03) WAP to find the length of a List."
   ]
  },
  {
   "cell_type": "code",
   "execution_count": 7,
   "metadata": {},
   "outputs": [
    {
     "name": "stdout",
     "output_type": "stream",
     "text": [
      "length of list : 4\n"
     ]
    }
   ],
   "source": [
    "length = 0\n",
    "for i in l2:\n",
    "    length = length + 1\n",
    "print(\"length of list :\",length)"
   ]
  },
  {
   "cell_type": "markdown",
   "metadata": {},
   "source": [
    "### 04) WAP to interchange first and last elements in a list."
   ]
  },
  {
   "cell_type": "code",
   "execution_count": 13,
   "metadata": {},
   "outputs": [
    {
     "name": "stdout",
     "output_type": "stream",
     "text": [
      "1st index 8 last index 1\n"
     ]
    }
   ],
   "source": [
    "l1[0], l1[length - 1] = l1[length-1], l1[0]\n",
    "print(\"1st index\",l1[0],\"last index\",l1[length - 1])"
   ]
  },
  {
   "cell_type": "markdown",
   "metadata": {},
   "source": [
    "### 05) WAP to split the List into two parts and append the first part to the end."
   ]
  },
  {
   "cell_type": "code",
   "execution_count": 61,
   "metadata": {},
   "outputs": [
    {
     "name": "stdout",
     "output_type": "stream",
     "text": [
      "[2, 4, 6, 7]\n",
      "alter split 1st list is l4 : [7] 2nd list is : [2, 4]\n",
      "[[7], [2, 4]]\n"
     ]
    }
   ],
   "source": [
    "l3 = [2,4,6,7]\n",
    "l4 = []\n",
    "l5 = []\n",
    "\n",
    "for i in range(0,4):\n",
    "    if(i > (4/2)):\n",
    "        l4.append(l3[i])\n",
    "    if(i < (4/2)):\n",
    "        l5.append(l3[i])\n",
    "print(l3)\n",
    "\n",
    "print(\"alter split 1st list is l4 :\",l4,\"2nd list is :\",l5)\n",
    "l6 = [l4,l5]\n",
    "print(l6)"
   ]
  },
  {
   "cell_type": "markdown",
   "metadata": {},
   "source": [
    "### 06) WAP to interchange the elements on two positions entered by a user."
   ]
  },
  {
   "cell_type": "code",
   "execution_count": 27,
   "metadata": {},
   "outputs": [
    {
     "name": "stdout",
     "output_type": "stream",
     "text": [
      "Enter an index :\n"
     ]
    },
    {
     "name": "stdin",
     "output_type": "stream",
     "text": [
      " 1\n",
      " 3\n"
     ]
    },
    {
     "name": "stdout",
     "output_type": "stream",
     "text": [
      "At 1 th index 8 and at 3 th index 5\n"
     ]
    }
   ],
   "source": [
    "print(\"Enter an index :\")\n",
    "i1 =int(input())\n",
    "i2 =int(input())\n",
    "\n",
    "l2[i1],l2[i2] = l2[i2],l2[i1]\n",
    "print(\"At\",i1,\"th index :\",l2[i1],\"and at\",i2,\"th index :\",l2[i2])"
   ]
  },
  {
   "cell_type": "markdown",
   "metadata": {},
   "source": [
    "### 07) WAP to reverse the list entered by user."
   ]
  },
  {
   "cell_type": "code",
   "execution_count": 57,
   "metadata": {},
   "outputs": [
    {
     "name": "stdin",
     "output_type": "stream",
     "text": [
      "enter the list : 1 2 3 4\n"
     ]
    },
    {
     "name": "stdout",
     "output_type": "stream",
     "text": [
      "reverse list : [4, 3, 2, 1]\n"
     ]
    }
   ],
   "source": [
    "user = input(\"enter the list :\")\n",
    "l7 = [int(x) for x in user.split()]\n",
    "\n",
    "l7.reverse()\n",
    "print(\"reverse list :\",l7)\n"
   ]
  },
  {
   "cell_type": "markdown",
   "metadata": {},
   "source": [
    "### 08) WAP to print even numbers in a list."
   ]
  },
  {
   "cell_type": "code",
   "execution_count": 63,
   "metadata": {},
   "outputs": [
    {
     "name": "stdout",
     "output_type": "stream",
     "text": [
      "[2, 8]\n"
     ]
    }
   ],
   "source": [
    "l8 = [l2[i] for i in range(0,4) if(l2[i]%2==0)]\n",
    "print(l8)"
   ]
  },
  {
   "cell_type": "markdown",
   "metadata": {},
   "source": [
    "### 09) WAP to count unique items in a list."
   ]
  },
  {
   "cell_type": "code",
   "execution_count": 13,
   "metadata": {},
   "outputs": [
    {
     "name": "stdout",
     "output_type": "stream",
     "text": [
      "No of unique items are: 5\n"
     ]
    }
   ],
   "source": [
    "input_list = [1, 2, 2, 5, 8, 4, 4, 8]\n",
    "\n",
    "l1 = []\n",
    "\n",
    "count = 0\n",
    "\n",
    "for item in input_list:\n",
    "    if item not in l1:\n",
    "        count += 1\n",
    "        l1.append(item)\n",
    "\n",
    "print(\"No of unique items are:\", count)"
   ]
  },
  {
   "cell_type": "markdown",
   "metadata": {},
   "source": [
    "### 10) WAP to copy a list."
   ]
  },
  {
   "cell_type": "code",
   "execution_count": 67,
   "metadata": {},
   "outputs": [
    {
     "name": "stdout",
     "output_type": "stream",
     "text": [
      "[2, 8, 7, 5]\n"
     ]
    }
   ],
   "source": [
    "l2.copy()\n",
    "print(l2)"
   ]
  },
  {
   "cell_type": "markdown",
   "metadata": {},
   "source": [
    "### 11) WAP to print all odd numbers in a given range."
   ]
  },
  {
   "cell_type": "code",
   "execution_count": 2,
   "metadata": {},
   "outputs": [
    {
     "name": "stdin",
     "output_type": "stream",
     "text": [
      "Enter lower range :  4\n",
      "Enter upper range :  5\n"
     ]
    },
    {
     "name": "stdout",
     "output_type": "stream",
     "text": [
      "[5]\n"
     ]
    }
   ],
   "source": [
    "lower = int(input(\"Enter lower range : \"))\n",
    "upper = int(input(\"Enter upper range : \"))\n",
    "li = [i for i in range(lower,upper+1) if i%2==1]\n",
    "print(li)"
   ]
  },
  {
   "cell_type": "markdown",
   "metadata": {},
   "source": [
    "### 12) WAP to count occurrences of an element in a list."
   ]
  },
  {
   "cell_type": "code",
   "execution_count": 83,
   "metadata": {},
   "outputs": [
    {
     "name": "stdout",
     "output_type": "stream",
     "text": [
      "1\n",
      "0\n"
     ]
    }
   ],
   "source": [
    "l10 = [1,2,4,6,7,8,9]\n",
    "print(l10.count(2))\n",
    "print(l10.count(3))"
   ]
  },
  {
   "cell_type": "markdown",
   "metadata": {},
   "source": [
    "### 13) WAP to find second largest number in a list."
   ]
  },
  {
   "cell_type": "code",
   "execution_count": 11,
   "metadata": {},
   "outputs": [
    {
     "name": "stdout",
     "output_type": "stream",
     "text": [
      "1st max no. is : 5 and 2nd max no. is : 4\n"
     ]
    }
   ],
   "source": [
    "l11 = [2,4,3,5]\n",
    "max = l11[0]\n",
    "secondmax = l11[0]\n",
    "for i in range(0,4):\n",
    "    if(max<l11[i]):\n",
    "        max = l11[i]\n",
    "for i in range(0,4):\n",
    "    if(secondmax<l11[i] and l11[i]!=max):\n",
    "        secondmax = l11[i]\n",
    "print(\"1st max no. is :\",max,\"and 2nd max no. is :\",secondmax)"
   ]
  },
  {
   "cell_type": "markdown",
   "metadata": {},
   "source": [
    "### 14) WAP to extract elements with frequency greater than K."
   ]
  },
  {
   "cell_type": "code",
   "execution_count": 6,
   "metadata": {},
   "outputs": [
    {
     "name": "stdin",
     "output_type": "stream",
     "text": [
      "Enter space separated values : 4 5 8 9\n",
      "Enter value of k :  2\n"
     ]
    },
    {
     "name": "stdout",
     "output_type": "stream",
     "text": [
      "[]\n"
     ]
    }
   ],
   "source": [
    "n = input(\"Enter space separated values :\")\n",
    "li = [i for i in n.split()]\n",
    "k = int(input(\"Enter value of k : \"))\n",
    "ans = set([i for i in li if li.count(i)>k])\n",
    "print(list(ans))"
   ]
  },
  {
   "cell_type": "markdown",
   "metadata": {},
   "source": [
    "### 15) WAP to create a list of squared numbers from 0 to 9 with and without using List Comprehension."
   ]
  },
  {
   "cell_type": "code",
   "execution_count": 12,
   "metadata": {},
   "outputs": [
    {
     "name": "stdout",
     "output_type": "stream",
     "text": [
      "Without List Comprehension ['4', '5', '8', '9']\n",
      "With list comprehension :  [0, 1, 4, 9, 16, 25, 36, 49, 64, 81]\n"
     ]
    }
   ],
   "source": [
    "l12=[]\n",
    "for i in range(0,10):\n",
    "    l12.append(i**2)\n",
    "print(\"Without List Comprehension\",li)\n",
    "\n",
    "l13 = [i**2 for i in range(0,10)]\n",
    "print(\"With list comprehension : \",l13)"
   ]
  },
  {
   "cell_type": "markdown",
   "metadata": {},
   "source": [
    "### 16) WAP to create a new list (fruit whose name starts with 'b') from the list of fruits given by user."
   ]
  },
  {
   "cell_type": "code",
   "execution_count": 14,
   "metadata": {},
   "outputs": [
    {
     "name": "stdin",
     "output_type": "stream",
     "text": [
      "Enter space separated fruits :  banana barberry bataun\n"
     ]
    },
    {
     "name": "stdout",
     "output_type": "stream",
     "text": [
      "['banana', 'barberry', 'bataun']\n"
     ]
    }
   ],
   "source": [
    "n = input(\"Enter space separated fruits : \")\n",
    "li = [i for i in n.split()]\n",
    "fruits = [i for i in li if i.startswith(\"b\")]\n",
    "print(fruits)"
   ]
  },
  {
   "cell_type": "markdown",
   "metadata": {},
   "source": [
    "### 17) WAP to create a list of common elements from given two lists."
   ]
  },
  {
   "cell_type": "code",
   "execution_count": 18,
   "metadata": {},
   "outputs": [
    {
     "name": "stdin",
     "output_type": "stream",
     "text": [
      "Enter space separated values :  1 4 5 7\n",
      "Enter space separated values :  2 5 4 6\n"
     ]
    },
    {
     "name": "stdout",
     "output_type": "stream",
     "text": [
      "['4', '5']\n"
     ]
    }
   ],
   "source": [
    "n1 = input(\"Enter space separated values : \")\n",
    "n2 = input(\"Enter space separated values : \")\n",
    "l14 = [i for i in n1.split()]\n",
    "l15 = [i for i in n2.split()]\n",
    "common = [x for x in l14 if x in l15]\n",
    "print(common)"
   ]
  }
 ],
 "metadata": {
  "kernelspec": {
   "display_name": "Python 3 (ipykernel)",
   "language": "python",
   "name": "python3"
  },
  "language_info": {
   "codemirror_mode": {
    "name": "ipython",
    "version": 3
   },
   "file_extension": ".py",
   "mimetype": "text/x-python",
   "name": "python",
   "nbconvert_exporter": "python",
   "pygments_lexer": "ipython3",
   "version": "3.12.7"
  }
 },
 "nbformat": 4,
 "nbformat_minor": 4
}
