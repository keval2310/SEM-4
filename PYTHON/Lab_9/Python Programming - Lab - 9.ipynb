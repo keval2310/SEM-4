{
 "cells": [
  {
   "cell_type": "markdown",
   "metadata": {},
   "source": [
    "<a href='https://www.darshan.ac.in/'> <img src='https://www.darshan.ac.in/Content/media/DU_Logo.svg' width=\"250\" height=\"300\"/></a>\n",
    "<pre>\n",
    "<center><b><h1>Python Programming - 2301CS404</b></center>\n",
    "<center><b><h1>Lab - 9</b></center>    \n",
    "    <center><b><h1>Keval Dhandhukiya</b></center>  \n",
    "        <center><b><h1>23010101064</b></center>  \n",
    "<pre>"
   ]
  },
  {
   "cell_type": "markdown",
   "metadata": {},
   "source": [
    "# File I/O"
   ]
  },
  {
   "cell_type": "markdown",
   "metadata": {},
   "source": [
    "### 01) WAP to read and display the contents of a text file. (also try to open the file in some other directory) \n",
    "#### - in the form of a string\n",
    "#### - line by line\n",
    "#### - in the form of a list"
   ]
  },
  {
   "cell_type": "code",
   "execution_count": 5,
   "metadata": {},
   "outputs": [
    {
     "name": "stdout",
     "output_type": "stream",
     "text": [
      "Keval Dhandhukiya\n",
      "\n",
      "Darshan University\n",
      "\n",
      "\n"
     ]
    }
   ],
   "source": [
    "fp = open(\"KD.txt\",\"r\")\n",
    "\n",
    "str1 = fp.read()\n",
    "print(str1)\n",
    "\n",
    "line1 = fp.readline()\n",
    "print(line1)\n",
    "\n",
    "l1 = []\n",
    "\n",
    "l1 = fp.readline()\n",
    "print(l1)"
   ]
  },
  {
   "cell_type": "markdown",
   "metadata": {},
   "source": [
    "### 02) WAP to create file named \"new.txt\" only if it doesn't exist."
   ]
  },
  {
   "cell_type": "code",
   "execution_count": 47,
   "metadata": {},
   "outputs": [],
   "source": [
    "fp = open(\"new.txt\",\"w\")\n",
    "fp.close()"
   ]
  },
  {
   "cell_type": "markdown",
   "metadata": {},
   "source": [
    "### 03) WAP to read first 5 lines from the text file."
   ]
  },
  {
   "cell_type": "code",
   "execution_count": 31,
   "metadata": {},
   "outputs": [
    {
     "name": "stdout",
     "output_type": "stream",
     "text": [
      "Keval \n",
      "Dhandhukiya\n",
      "Darshan \n",
      "University\n",
      "Rajkot\n"
     ]
    }
   ],
   "source": [
    "fp = open(\"KD.txt\",\"r\")\n",
    "c = 0\n",
    "d = fp.readline()\n",
    "while(c<5):\n",
    "    print(d, end = \"\")\n",
    "    d = fp.readline()\n",
    "    c+=1\n",
    "fp.close()"
   ]
  },
  {
   "cell_type": "markdown",
   "metadata": {},
   "source": [
    "### 04) WAP to find the longest word(s) in a file"
   ]
  },
  {
   "cell_type": "code",
   "execution_count": 35,
   "metadata": {},
   "outputs": [
    {
     "name": "stdout",
     "output_type": "stream",
     "text": [
      "['Dhandhukiya']\n"
     ]
    }
   ],
   "source": [
    "fp = open(\"KD.txt\",\"r\")\n",
    "wl = fp.read().split()\n",
    "w_len = list(map(len,wl))\n",
    "maxi = max(w_len)\n",
    "ans = [i for i in wl if len(i) == maxi]\n",
    "print(ans)\n",
    "fp.close()"
   ]
  },
  {
   "cell_type": "markdown",
   "metadata": {},
   "source": [
    "### 05) WAP to count the no. of lines, words and characters in a given text file."
   ]
  },
  {
   "cell_type": "code",
   "execution_count": 37,
   "metadata": {},
   "outputs": [
    {
     "name": "stdout",
     "output_type": "stream",
     "text": [
      "Lines 7, Words 7, characters 48\n"
     ]
    }
   ],
   "source": [
    "fp = open(\"KD.txt\",\"r\")\n",
    "l = 0\n",
    "w = 0\n",
    "c = 0\n",
    "for i in fp:\n",
    "    l += 1\n",
    "    for j in i.split():\n",
    "        w += 1\n",
    "        for k in j:\n",
    "            c += 1\n",
    "print(f\"Lines {l}, Words {w}, characters {c}\")\n",
    "fp.close()"
   ]
  },
  {
   "cell_type": "markdown",
   "metadata": {},
   "source": [
    "### 06) WAP to copy the content of a file to the another file."
   ]
  },
  {
   "cell_type": "code",
   "execution_count": 45,
   "metadata": {},
   "outputs": [],
   "source": [
    "fp = open(\"KD.txt\",\"r\")\n",
    "data = fp.read()\n",
    "fw = open(\"Copy1.txt\",\"w\")\n",
    "fw.write(data)\n",
    "fp.close()\n",
    "fw.close()"
   ]
  },
  {
   "cell_type": "markdown",
   "metadata": {},
   "source": [
    "### 07) WAP to find the size of the text file. "
   ]
  },
  {
   "cell_type": "code",
   "execution_count": 49,
   "metadata": {},
   "outputs": [
    {
     "name": "stdout",
     "output_type": "stream",
     "text": [
      "size of this file :  62 B\n"
     ]
    }
   ],
   "source": [
    "import os\n",
    "s = os.path.getsize(\"KD.txt\")\n",
    "print(\"size of this file : \",s,\"B\")"
   ]
  },
  {
   "cell_type": "markdown",
   "metadata": {},
   "source": [
    "### 08) WAP to create an UDF named frequency to count occurances of the specific word in a given text file."
   ]
  },
  {
   "cell_type": "code",
   "execution_count": 55,
   "metadata": {},
   "outputs": [
    {
     "name": "stdout",
     "output_type": "stream",
     "text": [
      "Enter words: Keval\n"
     ]
    },
    {
     "name": "stdout",
     "output_type": "stream",
     "text": [
      "1\n"
     ]
    }
   ],
   "source": [
    "word = input(\"Enter words:\")\n",
    "fp = open(\"KD.txt\",\"r\")\n",
    "def frequency(f,w):\n",
    "    c = 0\n",
    "    for i in f:\n",
    "        for j in i.split():\n",
    "            if(j == w):\n",
    "                c += 1\n",
    "    return c\n",
    "print(frequency(fp,word))\n",
    "fp.close()"
   ]
  },
  {
   "cell_type": "markdown",
   "metadata": {},
   "source": [
    "### 09) WAP to get the score of five subjects from the user, store them in a file. Fetch those marks and find the highest score."
   ]
  },
  {
   "cell_type": "code",
   "execution_count": 59,
   "metadata": {},
   "outputs": [
    {
     "name": "stdout",
     "output_type": "stream",
     "text": [
      "100\n"
     ]
    }
   ],
   "source": [
    "d={\"A\":90,\"B\":99,\"C\":100,\"D\":96,\"E\":20}\n",
    "m=0\n",
    "f=open(\"Marks.txt\",\"x\")\n",
    "for i in d.keys():\n",
    "    if(d[i]>m):\n",
    "        m=d[i]\n",
    "    f.write(f\"{i} : {d[i]} \\n\")\n",
    "f.close()\n",
    "\n",
    "print(m)"
   ]
  },
  {
   "cell_type": "markdown",
   "metadata": {},
   "source": [
    "### 10) WAP to write first 100 prime numbers to a file named primenumbers.txt \n",
    "(Note: each number should be in new line)"
   ]
  },
  {
   "cell_type": "code",
   "execution_count": 4,
   "metadata": {},
   "outputs": [],
   "source": [
    "fp = open(\"primenumbers.txt\", 'w')\n",
    "\n",
    "primes = []\n",
    "number = 2\n",
    "\n",
    "while len(primes) < 100:\n",
    "    is_prime = True\n",
    "    for i in range(2, int(number**0.5) + 1):\n",
    "        if number % i == 0:\n",
    "            is_prime = False\n",
    "            break\n",
    "\n",
    "    if is_prime:\n",
    "        primes.append(number)\n",
    "        fp.write(f\"{number}\\n\")\n",
    "\n",
    "    number += 1\n",
    "\n",
    "fp.close()"
   ]
  },
  {
   "cell_type": "markdown",
   "metadata": {},
   "source": [
    "### 11) WAP to merge two files and write it in a new file."
   ]
  },
  {
   "cell_type": "code",
   "execution_count": 63,
   "metadata": {},
   "outputs": [],
   "source": [
    "f1=open(\"KD.txt\")\n",
    "d1=f1.read()\n",
    "f1.close()\n",
    "\n",
    "f2=open(\"Marks.txt\")\n",
    "d2=f2.read()\n",
    "f2.close()\n",
    "\n",
    "f=open(\"KD2.txt\",\"x\")\n",
    "f.write(d1+d2)\n",
    "f.close()"
   ]
  },
  {
   "cell_type": "markdown",
   "metadata": {},
   "source": [
    "### 12) WAP to replace word1 by word2 of a text file. Write the updated data to new file."
   ]
  },
  {
   "cell_type": "code",
   "execution_count": 67,
   "metadata": {},
   "outputs": [
    {
     "name": "stdout",
     "output_type": "stream",
     "text": [
      "Replaced 'oldword' with 'newword'\n"
     ]
    }
   ],
   "source": [
    "word1 = \"oldword\"\n",
    "word2 = \"newword\"\n",
    "\n",
    "fp = open(\"input.txt\", 'r')\n",
    "data = fp.read()\n",
    "fp.close()\n",
    "\n",
    "updated_data = data.replace(word1, word2)\n",
    "\n",
    "fp = open(\"output.txt\", 'w')\n",
    "fp.write(updated_data)\n",
    "fp.close()\n",
    "\n",
    "print(f\"Replaced '{word1}' with '{word2}'\")"
   ]
  },
  {
   "cell_type": "markdown",
   "metadata": {},
   "source": [
    "### 13) Demonstrate tell() and seek() for all the cases(seek from beginning-end-current position) taking a suitable example of your choice."
   ]
  }
 ],
 "metadata": {
  "kernelspec": {
   "display_name": "Python 3 (ipykernel)",
   "language": "python",
   "name": "python3"
  },
  "language_info": {
   "codemirror_mode": {
    "name": "ipython",
    "version": 3
   },
   "file_extension": ".py",
   "mimetype": "text/x-python",
   "name": "python",
   "nbconvert_exporter": "python",
   "pygments_lexer": "ipython3",
   "version": "3.12.7"
  }
 },
 "nbformat": 4,
 "nbformat_minor": 4
}
