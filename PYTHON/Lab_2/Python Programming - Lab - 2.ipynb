{
 "cells": [
  {
   "cell_type": "markdown",
   "metadata": {},
   "source": [
    "\n",
    "<a href='https://www.darshan.ac.in/'> <img src='https://www.darshan.ac.in/Content/media/DU_Logo.svg' width=\"250\" height=\"300\"/></a>\n",
    "<pre>\n",
    "<center><b><h1>Python Programming - 2301CS404</b></center>\n",
    "<center><b><h1>Lab - 2</b></center> \n",
    "    <center><b><h1>Keval Dhandhukiya</b></center>\n",
    "        <center><b><h1>23010101064</b></center>\n",
    "<pre>"
   ]
  },
  {
   "cell_type": "markdown",
   "metadata": {},
   "source": [
    "# if..else.."
   ]
  },
  {
   "cell_type": "markdown",
   "metadata": {},
   "source": [
    "### 01) WAP to check whether the given number is positive or negative."
   ]
  },
  {
   "cell_type": "code",
   "execution_count": 1,
   "metadata": {},
   "outputs": [
    {
     "name": "stdin",
     "output_type": "stream",
     "text": [
      "Enter Number: -3\n"
     ]
    },
    {
     "name": "stdout",
     "output_type": "stream",
     "text": [
      "Negative\n"
     ]
    }
   ],
   "source": [
    "n = int(input(\"Enter Number:\"))\n",
    "if(n>0):\n",
    "     print(\"Possitive\")\n",
    "else:\n",
    "     print(\"Negative\")"
   ]
  },
  {
   "cell_type": "markdown",
   "metadata": {},
   "source": [
    "### 02) WAP to check whether the given number is odd or even."
   ]
  },
  {
   "cell_type": "code",
   "execution_count": 3,
   "metadata": {},
   "outputs": [
    {
     "name": "stdin",
     "output_type": "stream",
     "text": [
      "Enter Number: 4\n"
     ]
    },
    {
     "name": "stdout",
     "output_type": "stream",
     "text": [
      "Even\n"
     ]
    }
   ],
   "source": [
    "n = int(input(\"Enter Number:\"))\n",
    "if(n%2==0):\n",
    "     print(\"Even\")\n",
    "else:\n",
    "     print(\"Odd\")"
   ]
  },
  {
   "cell_type": "markdown",
   "metadata": {},
   "source": [
    "### 03) WAP to find out largest number from given two numbers using simple if and ternary operator."
   ]
  },
  {
   "cell_type": "code",
   "execution_count": 5,
   "metadata": {},
   "outputs": [
    {
     "name": "stdin",
     "output_type": "stream",
     "text": [
      "Enter Number: 2\n",
      "Enter Number: 3\n"
     ]
    },
    {
     "name": "stdout",
     "output_type": "stream",
     "text": [
      "Number 2 is Large:3\n"
     ]
    }
   ],
   "source": [
    "num1 = int(input(\"Enter Number:\"))\n",
    "num2 = int(input(\"Enter Number:\"))\n",
    "if(num1>num2):\n",
    "    print(f\"Number 1 is Large:{num1}\")\n",
    "else:\n",
    "    print(f\"Number 2 is Large:{num2}\")"
   ]
  },
  {
   "cell_type": "code",
   "execution_count": 9,
   "metadata": {},
   "outputs": [
    {
     "name": "stdin",
     "output_type": "stream",
     "text": [
      "Enter Number: 4\n",
      "Enter Number: 5\n"
     ]
    },
    {
     "name": "stdout",
     "output_type": "stream",
     "text": [
      "Number 2 is Large:4\n"
     ]
    }
   ],
   "source": [
    "num1 = int(input(\"Enter Number:\"))\n",
    "num2 = int(input(\"Enter Number:\"))\n",
    "print(f\"Number 1 is Large:{num1}\") if num1>num2 else print(f\"Number 2 is Large:{num1}\")"
   ]
  },
  {
   "cell_type": "markdown",
   "metadata": {},
   "source": [
    "### 04) WAP to find out largest number from given three numbers."
   ]
  },
  {
   "cell_type": "code",
   "execution_count": 11,
   "metadata": {},
   "outputs": [
    {
     "name": "stdin",
     "output_type": "stream",
     "text": [
      "Enter 1st Number: 2\n",
      "Enter 2nd Number: 3\n",
      "Enter 3rd Number: 4\n"
     ]
    },
    {
     "name": "stdout",
     "output_type": "stream",
     "text": [
      "Number 3 is Large:4\n"
     ]
    }
   ],
   "source": [
    "num1 = int(input(\"Enter 1st Number:\"))\n",
    "num2 = int(input(\"Enter 2nd Number:\"))\n",
    "num3 = int(input(\"Enter 3rd Number:\"))\n",
    "if(num1>=num2):\n",
    "    if(num1>=num3):\n",
    "        print(f\"Number 1 is Large:{num1}\")\n",
    "    else:\n",
    "        print(f\"Number 3 is Large:{num3}\")\n",
    "else:\n",
    "    if(num2>=num3):\n",
    "        print(f\"Number 2 is Large:{num2}\")\n",
    "    else:\n",
    "         print(f\"Number 3 is Large:{num3}\")"
   ]
  },
  {
   "cell_type": "markdown",
   "metadata": {},
   "source": [
    "### 05) WAP to check whether the given year is leap year or not.\n",
    "[If a year can be divisible by 4 but not divisible by 100 then it is leap year but if it is divisible by 400 then it is leap year]"
   ]
  },
  {
   "cell_type": "code",
   "execution_count": 15,
   "metadata": {},
   "outputs": [
    {
     "name": "stdin",
     "output_type": "stream",
     "text": [
      "Enter Year: 2005\n"
     ]
    },
    {
     "name": "stdout",
     "output_type": "stream",
     "text": [
      "Year is not Leap Year:2005\n"
     ]
    }
   ],
   "source": [
    "year = int(input(\"Enter Year:\"))\n",
    "if(year%4==0):\n",
    "    if(year%100==0):\n",
    "        if(year%400==0):\n",
    "            print(f\"Year is Leap Year:{year}\")\n",
    "        else:\n",
    "            print(f\"Year is Not Leap Year:{year}\")\n",
    "    else:\n",
    "        print(f\"Year is Leap Year:{year}\")\n",
    "else:\n",
    "    print(f\"Year is not Leap Year:{year}\")"
   ]
  },
  {
   "cell_type": "markdown",
   "metadata": {},
   "source": [
    "### 06) WAP in python to display the name of the day according to the number given by the user."
   ]
  },
  {
   "cell_type": "code",
   "execution_count": 1,
   "metadata": {},
   "outputs": [
    {
     "name": "stdin",
     "output_type": "stream",
     "text": [
      "Enter 1-7 Number: 4\n"
     ]
    },
    {
     "name": "stdout",
     "output_type": "stream",
     "text": [
      "4:Thursday\n"
     ]
    }
   ],
   "source": [
    "day = int(input(\"Enter 1-7 Number:\"))\n",
    "if(day==1):\n",
    "    print(f\"{day}:Monday\")\n",
    "elif(day==2):\n",
    "    print(f\"{day}:Tuesday\")\n",
    "elif(day==3):\n",
    "    print(f\"{day}:Wednesday\")\n",
    "elif(day==4):\n",
    "    print(f\"{day}:Thursday\")\n",
    "elif(day==5):\n",
    "    print(f\"{day}:Friday\")\n",
    "elif(day==6):\n",
    "    print(f\"{day}:saturday\")\n",
    "elif(day==7):\n",
    "    print(f\"{day}:Sunday\")\n",
    "else:\n",
    "    print(\"Enter Proper Day\")"
   ]
  },
  {
   "cell_type": "markdown",
   "metadata": {},
   "source": [
    "### 07) WAP to implement simple calculator which performs (add,sub,mul,div) of two no. based on user input."
   ]
  },
  {
   "cell_type": "code",
   "execution_count": 3,
   "metadata": {},
   "outputs": [
    {
     "name": "stdin",
     "output_type": "stream",
     "text": [
      "Enter 1st Number: 2\n",
      "Enter 2nd Number: 5\n",
      "Enter Choice 1.Add 2.sub 3.Mul 4.Div 3\n"
     ]
    },
    {
     "name": "stdout",
     "output_type": "stream",
     "text": [
      "Mul:10\n"
     ]
    }
   ],
   "source": [
    "num1 = int(input(\"Enter 1st Number:\"))\n",
    "num2 = int(input(\"Enter 2nd Number:\"))\n",
    "choice = int(input(\"Enter Choice 1.Add 2.sub 3.Mul 4.Div\"))\n",
    "if(choice==1):\n",
    "    print(f\"Add:{num1+num2}\")\n",
    "elif(choice==2):\n",
    "    print(f\"Sub:{num1-num2}\")\n",
    "elif(choice==3):\n",
    "    print(f\"Mul:{num1*num2}\")\n",
    "elif(choice==4):\n",
    "    print(f\"Div:{num1/num2}\")\n",
    "else:\n",
    "    print(\"Enter Proper Number\")"
   ]
  },
  {
   "cell_type": "markdown",
   "metadata": {},
   "source": [
    "### 08) WAP to read marks of five subjects. Calculate percentage and print class accordingly. \n",
    "Fail below 35 </br>\n",
    "Pass Class between 35 to 45 </br>\n",
    "Second Class</br>\n",
    "between 45 to 60</br>\n",
    "First Class between 60 to 70</br> \n",
    "Distinction if more than 70"
   ]
  },
  {
   "cell_type": "code",
   "execution_count": 5,
   "metadata": {},
   "outputs": [
    {
     "name": "stdin",
     "output_type": "stream",
     "text": [
      "Enter Pysics Mark: 55\n",
      "Enter Math Mark: 65\n",
      "Enter Ds Mark: 76\n",
      "Enter python Mark: 87\n",
      "Enter java Mark: 90\n"
     ]
    },
    {
     "name": "stdout",
     "output_type": "stream",
     "text": [
      "Distinction:74.6\n"
     ]
    }
   ],
   "source": [
    "pysics = int(input(\"Enter Pysics Mark:\"))\n",
    "math = int(input(\"Enter Math Mark:\"))\n",
    "ds = int(input(\"Enter Ds Mark:\"))\n",
    "python = int(input(\"Enter python Mark:\"))\n",
    "java = int(input(\"Enter java Mark:\"))\n",
    "pre = ((pysics + math + ds + python + java) / 500)*100\n",
    "if(pre>70):\n",
    "    print(f\"Distinction:{pre}\")\n",
    "elif(pre>60 and pre<70):\n",
    "    print(f\"First Calss:{pre}\")\n",
    "elif(pre>45 and pre<60):\n",
    "    print(f\"Second Calss:{pre}\")\n",
    "elif(pre>35 and pre<45):\n",
    "    print(f\"PASS Calss:{pre}\")\n",
    "else:\n",
    "    print(f\"Fail:{pre}\")"
   ]
  },
  {
   "cell_type": "markdown",
   "metadata": {},
   "source": [
    "### 09) Three sides of a triangle are entered through the keyboard, WAP to check whether the triangle is isosceles, equilateral, scalene or right-angled triangle."
   ]
  },
  {
   "cell_type": "code",
   "execution_count": 7,
   "metadata": {},
   "outputs": [
    {
     "name": "stdin",
     "output_type": "stream",
     "text": [
      "Enter the first side of the triangle:  4\n",
      "Enter the second side of the triangle:  6\n",
      "Enter the third side of the triangle:  5\n"
     ]
    },
    {
     "name": "stdout",
     "output_type": "stream",
     "text": [
      "Scalene triangle\n"
     ]
    }
   ],
   "source": [
    "a = float(input(\"Enter the first side of the triangle: \"))\n",
    "b = float(input(\"Enter the second side of the triangle: \"))\n",
    "c = float(input(\"Enter the third side of the triangle: \"))\n",
    "\n",
    "if a + b > c and a + c > b and b + c > a:\n",
    "    if a == b == c:\n",
    "        print(\"Equilateral triangle\")\n",
    "    elif a == b or b == c or a == c:\n",
    "        print(\"Isosceles triangle\")\n",
    "    elif (a**2 + b**2 == c**2) or (b**2 + c**2 == a**2) or (a**2 + c**2 == b**2):\n",
    "        print(\"Right-angled triangle\")\n",
    "    else:\n",
    "        print(\"Scalene triangle\")\n",
    "else:\n",
    "    print(\"The given sides do not form a valid triangle\")"
   ]
  },
  {
   "cell_type": "markdown",
   "metadata": {},
   "source": [
    "### 10) WAP to find the second largest number among three user input numbers."
   ]
  },
  {
   "cell_type": "code",
   "execution_count": 9,
   "metadata": {},
   "outputs": [
    {
     "name": "stdin",
     "output_type": "stream",
     "text": [
      "Enter the first number:  2\n",
      "Enter the second number:  3\n",
      "Enter the third number:  7\n"
     ]
    },
    {
     "name": "stdout",
     "output_type": "stream",
     "text": [
      "The second largest number is: 3\n"
     ]
    }
   ],
   "source": [
    "num1 = int(input(\"Enter the first number: \"))\n",
    "num2 = int(input(\"Enter the second number: \"))\n",
    "num3 = int(input(\"Enter the third number: \"))\n",
    "if (num1 > num2 and num1 < num3) or (num1 < num2 and num1 > num3):\n",
    "    second_largest = num1\n",
    "elif (num2 > num1 and num2 < num3) or (num2 < num1 and num2 > num3):\n",
    "    second_largest = num2\n",
    "else:\n",
    "    second_largest = num3\n",
    "print(\"The second largest number is:\", second_largest)"
   ]
  },
  {
   "cell_type": "markdown",
   "metadata": {},
   "source": [
    "### 11) WAP to calculate electricity bill based on following criteria. Which takes the unit from the user.\n",
    "a. First 1 to 50 units – Rs. 2.60/unit</br>\n",
    "b. Next 50 to 100 units – Rs. 3.25/unit</br>\n",
    "c. Next 100 to 200 units – Rs. 5.26/unit</br>\n",
    "d. above 200 units – Rs. 8.45/unit"
   ]
  },
  {
   "cell_type": "code",
   "execution_count": 15,
   "metadata": {},
   "outputs": [
    {
     "name": "stdin",
     "output_type": "stream",
     "text": [
      "Enter Electric Unit: 500\n"
     ]
    },
    {
     "name": "stdout",
     "output_type": "stream",
     "text": [
      "Ans:3353.5\n"
     ]
    }
   ],
   "source": [
    "unit = int(input(\"Enter Electric Unit:\"))\n",
    "if(unit>1 and unit<50):\n",
    "    ans = unit * 2.60\n",
    "elif(unit<100):\n",
    "    ans = 130 + ((unit - 50) * 3.25)\n",
    "elif(unit<=200):\n",
    "    ans = 292.5 + ((unit - 100) * 5.26)\n",
    "else:\n",
    "    ans = 818.5 + ((unit - 200) * 8.45)\n",
    "    print(f\"Ans:{ans}\")"
   ]
  }
 ],
 "metadata": {
  "kernelspec": {
   "display_name": "Python 3 (ipykernel)",
   "language": "python",
   "name": "python3"
  },
  "language_info": {
   "codemirror_mode": {
    "name": "ipython",
    "version": 3
   },
   "file_extension": ".py",
   "mimetype": "text/x-python",
   "name": "python",
   "nbconvert_exporter": "python",
   "pygments_lexer": "ipython3",
   "version": "3.12.7"
  }
 },
 "nbformat": 4,
 "nbformat_minor": 4
}
