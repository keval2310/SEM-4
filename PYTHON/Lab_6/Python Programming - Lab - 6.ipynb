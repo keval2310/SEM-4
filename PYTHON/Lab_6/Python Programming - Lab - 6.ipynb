{
 "cells": [
  {
   "attachments": {},
   "cell_type": "markdown",
   "metadata": {},
   "source": [
    "<a href='https://www.darshan.ac.in/'> <img src='https://www.darshan.ac.in/Content/media/DU_Logo.svg' width=\"250\" height=\"300\"/></a>\n",
    "<pre>\n",
    "<center><b><h1>Python Programming - 2301CS404</b></center>\n",
    "<center><b><h1>Lab - 6</b></center>\n",
    "    <center><b><h1>Keval Dhandhukiya</b></center>   \n",
    "        <center><b><h1>23010101064</b></center>   \n",
    "<pre>"
   ]
  },
  {
   "cell_type": "markdown",
   "metadata": {},
   "source": [
    "# Tuple"
   ]
  },
  {
   "cell_type": "markdown",
   "metadata": {},
   "source": [
    "### 01) WAP to find sum of tuple elements."
   ]
  },
  {
   "cell_type": "code",
   "execution_count": 1,
   "metadata": {},
   "outputs": [
    {
     "name": "stdout",
     "output_type": "stream",
     "text": [
      "15\n"
     ]
    }
   ],
   "source": [
    "t1 = (1,2,3,4,5)\n",
    "sum = 0\n",
    "for i in t1:\n",
    "    sum+=i\n",
    "print(sum)"
   ]
  },
  {
   "cell_type": "markdown",
   "metadata": {},
   "source": [
    "### 02) WAP to find Maximum and Minimum K elements in a given tuple."
   ]
  },
  {
   "cell_type": "code",
   "execution_count": 3,
   "metadata": {},
   "outputs": [
    {
     "name": "stdin",
     "output_type": "stream",
     "text": [
      "enter a number 5\n"
     ]
    },
    {
     "name": "stdout",
     "output_type": "stream",
     "text": [
      "min 0 is 1  max 0 is 9\n",
      "min 1 is 2  max 1 is 6\n",
      "min 2 is 3  max 2 is 4\n",
      "min 3 is 4  max 3 is 3\n",
      "min 4 is 6  max 4 is 2\n",
      "min 5 is 9  max 5 is 1\n"
     ]
    }
   ],
   "source": [
    "t = (1,2,3,4,9,6)\n",
    "t = sorted(t)\n",
    "k = int(input(\"enter a number\"))\n",
    "\n",
    "for i in range(0,k+1):\n",
    "    print(f\"min {i} is {t[i]}  max {i} is {t[-i-1]}\")"
   ]
  },
  {
   "cell_type": "markdown",
   "metadata": {},
   "source": [
    "### 03) WAP to find tuples which have all elements divisible by K from a list of tuples."
   ]
  },
  {
   "cell_type": "code",
   "execution_count": 5,
   "metadata": {},
   "outputs": [
    {
     "name": "stdin",
     "output_type": "stream",
     "text": [
      "enter number to divide tuple 4\n"
     ]
    },
    {
     "name": "stdout",
     "output_type": "stream",
     "text": [
      "(4, 8, 12) is divisible by  4\n"
     ]
    }
   ],
   "source": [
    "list = [(4,8,12),(4,8,45),(4,5,7)]\n",
    "k = int(input(\"enter number to divide tuple\"))\n",
    "for i in list:\n",
    "    for j in range(0,len(i)):\n",
    "        if(i[j]%k!=0):\n",
    "            break\n",
    "    else:\n",
    "        print(i,\"is divisible by \",k)"
   ]
  },
  {
   "cell_type": "markdown",
   "metadata": {},
   "source": [
    "### 04) WAP to create a list of tuples from given list having number and its cube in each tuple."
   ]
  },
  {
   "cell_type": "code",
   "execution_count": 7,
   "metadata": {},
   "outputs": [
    {
     "name": "stdout",
     "output_type": "stream",
     "text": [
      "[(1, 1), (2, 8), (3, 27), (4, 64), (5, 125)]\n"
     ]
    }
   ],
   "source": [
    "l = [1,2,3,4,5]\n",
    "\n",
    "l2 = []\n",
    "\n",
    "for i in l:\n",
    "    t = (i,i**3)\n",
    "    l2.append(t)\n",
    "print(l2)"
   ]
  },
  {
   "cell_type": "markdown",
   "metadata": {},
   "source": [
    "### 05) WAP to find tuples with all positive elements from the given list of tuples."
   ]
  },
  {
   "cell_type": "code",
   "execution_count": 9,
   "metadata": {},
   "outputs": [
    {
     "name": "stdout",
     "output_type": "stream",
     "text": [
      "(4, 5, 7) is positive tuple\n"
     ]
    }
   ],
   "source": [
    "list = [(4,-8,12),(4,8,-45),(4,5,7)]\n",
    "for i in list:\n",
    "    for j in range(0,len(i)):\n",
    "        if(i[j]<0):\n",
    "            break\n",
    "    else:\n",
    "        print(i,\"is positive tuple\")"
   ]
  },
  {
   "cell_type": "markdown",
   "metadata": {},
   "source": [
    "### 06) WAP to add tuple to list and vice – versa."
   ]
  },
  {
   "cell_type": "code",
   "execution_count": 11,
   "metadata": {},
   "outputs": [
    {
     "name": "stdout",
     "output_type": "stream",
     "text": [
      "[(1, 2, 3), (4, 5, 6)]\n",
      "(1, 2, 3, 4, 5, 6)\n"
     ]
    }
   ],
   "source": [
    "l = [(1,2,3)]\n",
    "l.append((4,5,6))\n",
    "print(l)\n",
    "\n",
    "t = tuple([1,2,3])\n",
    "t = t + tuple([4,5,6])\n",
    "print(t)"
   ]
  },
  {
   "cell_type": "markdown",
   "metadata": {},
   "source": [
    "### 07) WAP to remove tuples of length K."
   ]
  },
  {
   "cell_type": "code",
   "execution_count": 13,
   "metadata": {},
   "outputs": [
    {
     "name": "stdin",
     "output_type": "stream",
     "text": [
      "enter a number 6\n"
     ]
    },
    {
     "name": "stdout",
     "output_type": "stream",
     "text": [
      "[(1, 2), (1, 2, 3), (4, 5, 6, 7), (1, 2, 3), (7, 8)]\n"
     ]
    }
   ],
   "source": [
    "l = [(1,2),(1,2,3),(4,5,6,7),(1,2,3),(7,8)]\n",
    "k = int(input(\"enter a number\"))\n",
    "for i in l:\n",
    "    if(len(i)==k):\n",
    "        l.remove(i)\n",
    "print(l)"
   ]
  },
  {
   "cell_type": "markdown",
   "metadata": {},
   "source": [
    "### 08) WAP to remove duplicates from tuple."
   ]
  },
  {
   "cell_type": "code",
   "execution_count": 15,
   "metadata": {},
   "outputs": [
    {
     "name": "stdout",
     "output_type": "stream",
     "text": [
      "(1, 2, 3, 1, 4, 5, 6, 2, 1)\n",
      "(1, 2, 3, 4, 5, 6)\n"
     ]
    }
   ],
   "source": [
    "t  = (1,2,3,1,4,5,6,2,1)\n",
    "print(t)\n",
    "s = set(t)\n",
    "t = tuple(s)\n",
    "print(t)"
   ]
  },
  {
   "cell_type": "markdown",
   "metadata": {},
   "source": [
    "### 09) WAP to multiply adjacent elements of a tuple and print that resultant tuple."
   ]
  },
  {
   "cell_type": "code",
   "execution_count": 17,
   "metadata": {},
   "outputs": [
    {
     "name": "stdout",
     "output_type": "stream",
     "text": [
      "(2, 6, 12, 20, 30)\n"
     ]
    }
   ],
   "source": [
    "t = (1,2,3,4,5,6)\n",
    "l = []\n",
    "for i in range(0,len(t)-1):\n",
    "    l.append(t[i]*t[i+1])\n",
    "\n",
    "tres = tuple(l)\n",
    "print(tres)"
   ]
  },
  {
   "cell_type": "markdown",
   "metadata": {},
   "source": [
    "### 10) WAP to test if the given tuple is distinct or not."
   ]
  },
  {
   "cell_type": "code",
   "execution_count": 19,
   "metadata": {},
   "outputs": [
    {
     "name": "stdout",
     "output_type": "stream",
     "text": [
      "given tuple is not distinct\n"
     ]
    }
   ],
   "source": [
    "t = (1,2,3,4,5,6,7,8,1)\n",
    "for i in t:\n",
    "    if(t.count(i)!=1):\n",
    "        print(\"given tuple is not distinct\")\n",
    "        break\n",
    "else:\n",
    "    print(\"given tuppel is distinct\")"
   ]
  }
 ],
 "metadata": {
  "kernelspec": {
   "display_name": "Python 3 (ipykernel)",
   "language": "python",
   "name": "python3"
  },
  "language_info": {
   "codemirror_mode": {
    "name": "ipython",
    "version": 3
   },
   "file_extension": ".py",
   "mimetype": "text/x-python",
   "name": "python",
   "nbconvert_exporter": "python",
   "pygments_lexer": "ipython3",
   "version": "3.12.7"
  }
 },
 "nbformat": 4,
 "nbformat_minor": 4
}
