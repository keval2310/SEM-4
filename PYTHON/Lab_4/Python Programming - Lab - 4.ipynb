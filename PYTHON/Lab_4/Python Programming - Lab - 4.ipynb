{
 "cells": [
  {
   "cell_type": "markdown",
   "metadata": {},
   "source": [
    "\n",
    "<a href='https://www.darshan.ac.in/'> <img src='https://www.darshan.ac.in/Content/media/DU_Logo.svg' width=\"250\" height=\"300\"/></a>\n",
    "<pre>\n",
    "<center><b><h1>Python Programming - 2301CS404</b></center>\n",
    "<center><b><h1>Lab - 4</b></center>\n",
    "    <center><b><h1>Keval Dhandhukiya</b></center>\n",
    "        <center><b><h1>23010101064</b></center>\n",
    "<pre>"
   ]
  },
  {
   "cell_type": "markdown",
   "metadata": {},
   "source": [
    "# String"
   ]
  },
  {
   "cell_type": "markdown",
   "metadata": {},
   "source": [
    "### 01) WAP to check whether the given string is palindrome or not."
   ]
  },
  {
   "cell_type": "code",
   "execution_count": 11,
   "metadata": {},
   "outputs": [
    {
     "name": "stdout",
     "output_type": "stream",
     "text": [
      "enter the string\n"
     ]
    },
    {
     "name": "stdout",
     "output_type": "stream",
     "text": [
      " nayan\n"
     ]
    },
    {
     "name": "stdout",
     "output_type": "stream",
     "text": [
      "string is palindrome\n"
     ]
    }
   ],
   "source": [
    "print(\"enter the string\")\n",
    "insert = input()\n",
    "in1 = insert[::-1]\n",
    "if(in1==insert):\n",
    "    print(\"string is palindrome\")\n",
    "else:\n",
    "    print(\"string is not palindrome\")    "
   ]
  },
  {
   "cell_type": "markdown",
   "metadata": {},
   "source": [
    "### 02) WAP to reverse the words in the given string."
   ]
  },
  {
   "cell_type": "code",
   "execution_count": 15,
   "metadata": {},
   "outputs": [
    {
     "name": "stdout",
     "output_type": "stream",
     "text": [
      "enter thr string\n"
     ]
    },
    {
     "name": "stdout",
     "output_type": "stream",
     "text": [
      " java\n"
     ]
    },
    {
     "name": "stdout",
     "output_type": "stream",
     "text": [
      "rverse string is: avaj\n"
     ]
    }
   ],
   "source": [
    "print(\"enter the string\")\n",
    "insert = input()\n",
    "in2 = insert[::-1]\n",
    "\n",
    "print(\"reverse string is:\",in2)"
   ]
  },
  {
   "cell_type": "markdown",
   "metadata": {},
   "source": [
    "### 03) WAP to remove ith character from given string."
   ]
  },
  {
   "cell_type": "code",
   "execution_count": 3,
   "metadata": {},
   "outputs": [
    {
     "name": "stdout",
     "output_type": "stream",
     "text": [
      "enter thr string\n"
     ]
    },
    {
     "name": "stdout",
     "output_type": "stream",
     "text": [
      " vadodara\n"
     ]
    },
    {
     "name": "stdout",
     "output_type": "stream",
     "text": [
      "enter the ith index no.\n"
     ]
    },
    {
     "name": "stdout",
     "output_type": "stream",
     "text": [
      " 3\n"
     ]
    },
    {
     "name": "stdout",
     "output_type": "stream",
     "text": [
      "vaddara\n"
     ]
    }
   ],
   "source": [
    "print(\"enter thr string\")\n",
    "in3 = input()\n",
    "\n",
    "l = len(in3)\n",
    "print(\"enter the ith index no.\")\n",
    "ith = int(input())\n",
    "in4 =\"\"\n",
    "for i in range(0,l):\n",
    "\n",
    "    if(i!=ith):\n",
    "        in4=in4+in3[i]\n",
    "\n",
    "print(in4)"
   ]
  },
  {
   "cell_type": "markdown",
   "metadata": {},
   "source": [
    "### 04) WAP to find length of string without using len function."
   ]
  },
  {
   "cell_type": "code",
   "execution_count": 26,
   "metadata": {},
   "outputs": [
    {
     "name": "stdout",
     "output_type": "stream",
     "text": [
      "enter thr string\n"
     ]
    },
    {
     "name": "stdout",
     "output_type": "stream",
     "text": [
      " india\n"
     ]
    },
    {
     "name": "stdout",
     "output_type": "stream",
     "text": [
      "5\n"
     ]
    }
   ],
   "source": [
    "print(\"enter thr string\")\n",
    "insert = input()\n",
    "\n",
    "count=0\n",
    "for i in insert:\n",
    "    count=count+1\n",
    "print(count)"
   ]
  },
  {
   "cell_type": "markdown",
   "metadata": {},
   "source": [
    "### 05) WAP to print even length word in string."
   ]
  },
  {
   "cell_type": "code",
   "execution_count": 34,
   "metadata": {},
   "outputs": [
    {
     "name": "stdout",
     "output_type": "stream",
     "text": [
      "enter thr string\n"
     ]
    },
    {
     "name": "stdout",
     "output_type": "stream",
     "text": [
      " rajkot\n"
     ]
    },
    {
     "name": "stdout",
     "output_type": "stream",
     "text": [
      "rjo\n"
     ]
    }
   ],
   "source": [
    "print(\"enter thr string\")\n",
    "insert2 = input()\n",
    "\n",
    "l = len(insert2)\n",
    "str2 = \"\"\n",
    "\n",
    "for i in range(0,l):\n",
    "\n",
    "    if(i%2==0):\n",
    "        str2=str2+insert2[i]\n",
    "\n",
    "print(str2)"
   ]
  },
  {
   "cell_type": "markdown",
   "metadata": {},
   "source": [
    "### 06) WAP to count numbers of vowels in given string."
   ]
  },
  {
   "cell_type": "code",
   "execution_count": 13,
   "metadata": {},
   "outputs": [
    {
     "name": "stdout",
     "output_type": "stream",
     "text": [
      "enter thr string\n"
     ]
    },
    {
     "name": "stdout",
     "output_type": "stream",
     "text": [
      " surat\n"
     ]
    },
    {
     "name": "stdout",
     "output_type": "stream",
     "text": [
      "2\n"
     ]
    }
   ],
   "source": [
    "print(\"enter thr string\")\n",
    "insert3 = input()\n",
    "count=0\n",
    "l = len(insert3)\n",
    "\n",
    "for i in range(0,l):\n",
    "\n",
    "    if(insert3[i]=='a' or insert3[i]=='e' or insert3[i]=='i' or insert3[i]=='o' or insert3[i]=='u'):\n",
    "        count = count+1\n",
    "print(count)"
   ]
  },
  {
   "cell_type": "markdown",
   "metadata": {},
   "source": [
    "### 07) WAP to capitalize the first and last character of each word in a string."
   ]
  },
  {
   "cell_type": "code",
   "execution_count": 1,
   "metadata": {},
   "outputs": [
    {
     "name": "stdout",
     "output_type": "stream",
     "text": [
      "Enter a sentence :  python is very easy\n"
     ]
    },
    {
     "name": "stdout",
     "output_type": "stream",
     "text": [
      "PythoN IS VerY EasY\n"
     ]
    }
   ],
   "source": [
    "s = input(\"Enter a sentence : \")\n",
    "words = s.split()\n",
    "word = []\n",
    "result = \"\"\n",
    "for i in words:\n",
    "    if len(i)>1:\n",
    "        i = i[0].upper()+i[1:-1]+i[-1].upper()\n",
    "    else:\n",
    "        i=i.upper()\n",
    "    word.append(i)\n",
    "result = \" \".join(word)\n",
    "print(result)"
   ]
  },
  {
   "cell_type": "markdown",
   "metadata": {},
   "source": [
    "### 08) WAP to convert given array to string."
   ]
  },
  {
   "cell_type": "code",
   "execution_count": 7,
   "metadata": {},
   "outputs": [
    {
     "name": "stdout",
     "output_type": "stream",
     "text": [
      "Enter size of array :  a\n"
     ]
    },
    {
     "ename": "ValueError",
     "evalue": "invalid literal for int() with base 10: 'a'",
     "output_type": "error",
     "traceback": [
      "\u001b[1;31m---------------------------------------------------------------------------\u001b[0m",
      "\u001b[1;31mValueError\u001b[0m                                Traceback (most recent call last)",
      "Cell \u001b[1;32mIn[7], line 1\u001b[0m\n\u001b[1;32m----> 1\u001b[0m n \u001b[38;5;241m=\u001b[39m \u001b[38;5;28mint\u001b[39m(\u001b[38;5;28minput\u001b[39m(\u001b[38;5;124m\"\u001b[39m\u001b[38;5;124mEnter size of array : \u001b[39m\u001b[38;5;124m\"\u001b[39m))\n\u001b[0;32m      2\u001b[0m arr \u001b[38;5;241m=\u001b[39m []\n\u001b[0;32m      3\u001b[0m \u001b[38;5;28;01mfor\u001b[39;00m i \u001b[38;5;129;01min\u001b[39;00m \u001b[38;5;28mrange\u001b[39m(\u001b[38;5;241m0\u001b[39m,n):\n",
      "\u001b[1;31mValueError\u001b[0m: invalid literal for int() with base 10: 'a'"
     ]
    }
   ],
   "source": [
    "n = int(input(\"Enter size of array : \"))\n",
    "arr = []\n",
    "for i in range(0,n):\n",
    "    val = input(f\"Enter arr[{i}] : \")\n",
    "    arr.append(val)\n",
    "s = \" \".join(arr)\n",
    "print(s)"
   ]
  },
  {
   "cell_type": "markdown",
   "metadata": {},
   "source": [
    "### 09) Check if the password and confirm password is same or not. \n",
    "### In case of only case's mistake, show the error message."
   ]
  },
  {
   "cell_type": "code",
   "execution_count": 9,
   "metadata": {},
   "outputs": [
    {
     "name": "stdout",
     "output_type": "stream",
     "text": [
      "Enter password :  45678\n",
      "Re-enter your password :  45678\n"
     ]
    },
    {
     "name": "stdout",
     "output_type": "stream",
     "text": [
      "Password Match.\n"
     ]
    }
   ],
   "source": [
    "password = input(\"Enter password : \")\n",
    "confirm = input(\"Re-enter your password : \")\n",
    "if password==confirm:\n",
    "    print(\"Password Match.\")\n",
    "elif password.lower()==confirm.lower():\n",
    "    print(\"Password do not match due to case difference.\")\n",
    "else:\n",
    "    print(\"Password do not match.\")"
   ]
  },
  {
   "cell_type": "markdown",
   "metadata": {},
   "source": [
    "### 10) : Display credit card number. \n",
    "### card no. : 1234 5678 9012 3456\n",
    "### display as  : **** **** **** 3456"
   ]
  },
  {
   "cell_type": "code",
   "execution_count": 13,
   "metadata": {},
   "outputs": [
    {
     "name": "stdout",
     "output_type": "stream",
     "text": [
      "Enter credit card number :  2314 2548 2546 2548\n"
     ]
    },
    {
     "name": "stdout",
     "output_type": "stream",
     "text": [
      "**** **** **** 2548\n"
     ]
    }
   ],
   "source": [
    "card_number = input(\"Enter credit card number : \")\n",
    "parts = card_number.split()\n",
    "for i in range(0,len(parts)-1):\n",
    "    parts[i] = '****'\n",
    "card_number = \" \".join(parts)\n",
    "print(card_number)"
   ]
  },
  {
   "cell_type": "markdown",
   "metadata": {},
   "source": [
    "### 11) : Checking if the two strings are Anagram or not.\n",
    "### s1 = decimal and s2 = medical are Anagram"
   ]
  },
  {
   "cell_type": "code",
   "execution_count": 15,
   "metadata": {},
   "outputs": [
    {
     "name": "stdout",
     "output_type": "stream",
     "text": [
      "Enter first string :  python\n",
      "Enter second string :  java\n"
     ]
    },
    {
     "name": "stdout",
     "output_type": "stream",
     "text": [
      "Not Anagram\n"
     ]
    }
   ],
   "source": [
    "s1 = input(\"Enter first string : \")\n",
    "s2 = input(\"Enter second string : \")\n",
    "if sorted(s1)==sorted(s2):\n",
    "    print(\"Is Anagram\")\n",
    "else:\n",
    "    print(\"Not Anagram\")"
   ]
  },
  {
   "cell_type": "markdown",
   "metadata": {},
   "source": [
    "### 12) : Rearrange the given string. First lowercase then uppercase alphabets.\n",
    "### input : EHlsarwiwhtwMV\n",
    "### output : lsarwiwhtwEHMV"
   ]
  },
  {
   "cell_type": "code",
   "execution_count": 21,
   "metadata": {},
   "outputs": [
    {
     "name": "stdout",
     "output_type": "stream",
     "text": [
      "Enter a string :   EHlsarwiwhtwMV\n"
     ]
    },
    {
     "name": "stdout",
     "output_type": "stream",
     "text": [
      "lsarwiwhtwEHMV\n"
     ]
    }
   ],
   "source": [
    "s = input(\"Enter a string : \")\n",
    "lower = \"\"\n",
    "upper = \"\"\n",
    "for i in s:\n",
    "    if i.islower():\n",
    "        lower += i\n",
    "    elif i.isupper():\n",
    "        upper += i\n",
    "result = lower+upper\n",
    "print(result)"
   ]
  }
 ],
 "metadata": {
  "kernelspec": {
   "display_name": "Python 3 (ipykernel)",
   "language": "python",
   "name": "python3"
  },
  "language_info": {
   "codemirror_mode": {
    "name": "ipython",
    "version": 3
   },
   "file_extension": ".py",
   "mimetype": "text/x-python",
   "name": "python",
   "nbconvert_exporter": "python",
   "pygments_lexer": "ipython3",
   "version": "3.12.7"
  },
  "vscode": {
   "interpreter": {
    "hash": "31f2aee4e71d21fbe5cf8b01ff0e069b9275f58929596ceb00d14d90e3e16cd6"
   }
  }
 },
 "nbformat": 4,
 "nbformat_minor": 4
}
