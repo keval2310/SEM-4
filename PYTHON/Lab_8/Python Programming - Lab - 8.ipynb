{
 "cells": [
  {
   "cell_type": "markdown",
   "metadata": {},
   "source": [
    "<a href='https://www.darshan.ac.in/'> <img src='https://www.darshan.ac.in/Content/media/DU_Logo.svg' width=\"250\" height=\"300\"/></a>\n",
    "<pre>\n",
    "<center><b><h1>Python Programming - 2301CS404</b></center>\n",
    "<center><b><h1>Lab - 8</b></center>\n",
    "    <center><b><h1>Keval Dhandhukiya</b></center>\n",
    "        <center><b><h1>23010101064</b></center>\n",
    "    \n",
    "<pre>"
   ]
  },
  {
   "cell_type": "markdown",
   "metadata": {},
   "source": [
    "# User Defined Function"
   ]
  },
  {
   "cell_type": "markdown",
   "metadata": {},
   "source": [
    "### 01) Write a function to calculate BMI given mass and height. (BMI = mass/h**2)"
   ]
  },
  {
   "cell_type": "code",
   "execution_count": 3,
   "metadata": {},
   "outputs": [
    {
     "name": "stdout",
     "output_type": "stream",
     "text": [
      "enter the mass:\n"
     ]
    },
    {
     "name": "stdin",
     "output_type": "stream",
     "text": [
      " 5\n"
     ]
    },
    {
     "name": "stdout",
     "output_type": "stream",
     "text": [
      "enter the height:\n"
     ]
    },
    {
     "name": "stdin",
     "output_type": "stream",
     "text": [
      " 6\n"
     ]
    },
    {
     "name": "stdout",
     "output_type": "stream",
     "text": [
      "BMI =  0.1388888888888889\n"
     ]
    }
   ],
   "source": [
    "print(\"enter the mass:\")\n",
    "mass = int(input())\n",
    "\n",
    "print(\"enter the height:\")\n",
    "height = int(input())\n",
    "\n",
    "def calculate_BMI(mass,h):\n",
    "    print(\"BMI = \",(mass/(h**2)))\n",
    "\n",
    "calculate_BMI(mass,height)"
   ]
  },
  {
   "cell_type": "markdown",
   "metadata": {},
   "source": [
    "### 02) Write a function that add first n numbers."
   ]
  },
  {
   "cell_type": "code",
   "execution_count": 17,
   "metadata": {},
   "outputs": [
    {
     "name": "stdout",
     "output_type": "stream",
     "text": [
      "enter the number:\n"
     ]
    },
    {
     "name": "stdin",
     "output_type": "stream",
     "text": [
      " 4\n"
     ]
    },
    {
     "name": "stdout",
     "output_type": "stream",
     "text": [
      "10\n"
     ]
    }
   ],
   "source": [
    "print(\"enter the number:\")\n",
    "number = int(input())\n",
    "\n",
    "def sum1(number):\n",
    "    sum = 0\n",
    "\n",
    "    for i in range(0,n+1):\n",
    "        sum += i\n",
    "\n",
    "    print(sum)\n",
    "sum1(number)"
   ]
  },
  {
   "cell_type": "markdown",
   "metadata": {},
   "source": [
    "### 03) Write a function that returns 1 if the given number is Prime or 0 otherwise."
   ]
  },
  {
   "cell_type": "code",
   "execution_count": 6,
   "metadata": {},
   "outputs": [
    {
     "name": "stdout",
     "output_type": "stream",
     "text": [
      "Is 7 a prime number? Yes\n"
     ]
    }
   ],
   "source": [
    "def is_prime(number):\n",
    "    if number <= 1:\n",
    "        return 0\n",
    "    for i in range(2, int(number ** 0.5) + 1):\n",
    "        if number % i == 0:\n",
    "            return 0\n",
    "    return 1\n",
    "num = 7\n",
    "result = is_prime(num)\n",
    "print(f\"Is {num} a prime number? {'Yes' if result == 1 else 'No'}\")"
   ]
  },
  {
   "cell_type": "markdown",
   "metadata": {},
   "source": [
    "### 04) Write a function that returns the list of Prime numbers between given two numbers."
   ]
  },
  {
   "cell_type": "code",
   "execution_count": 37,
   "metadata": {},
   "outputs": [
    {
     "name": "stdout",
     "output_type": "stream",
     "text": [
      "enter the starting range:\n"
     ]
    },
    {
     "name": "stdin",
     "output_type": "stream",
     "text": [
      " 1\n"
     ]
    },
    {
     "name": "stdout",
     "output_type": "stream",
     "text": [
      "enter the ending range:\n"
     ]
    },
    {
     "name": "stdin",
     "output_type": "stream",
     "text": [
      " 10\n"
     ]
    },
    {
     "data": {
      "text/plain": [
       "[2, 3, 5, 7]"
      ]
     },
     "execution_count": 37,
     "metadata": {},
     "output_type": "execute_result"
    }
   ],
   "source": [
    "print(\"enter the starting range:\")\n",
    "number2 = int(input())\n",
    "\n",
    "print(\"enter the ending range:\")\n",
    "number3 = int(input())\n",
    "\n",
    "def prime(x, y):\n",
    "    prime_list = []\n",
    "    for i in range(x, y):\n",
    "        if i == 0 or i == 1:\n",
    "            continue\n",
    "        else:\n",
    "            for j in range(2, int(i/2)+1):\n",
    "                if i % j == 0:\n",
    "                    break\n",
    "            else:\n",
    "                prime_list.append(i)\n",
    "    return prime_list\n",
    "\n",
    "prime(number2,number3)"
   ]
  },
  {
   "cell_type": "markdown",
   "metadata": {},
   "source": [
    "### 05) Write a function that returns True if the given string is Palindrome or False otherwise."
   ]
  },
  {
   "cell_type": "code",
   "execution_count": 45,
   "metadata": {},
   "outputs": [
    {
     "name": "stdout",
     "output_type": "stream",
     "text": [
      "True\n"
     ]
    }
   ],
   "source": [
    "def isPalindrome(s):\n",
    "    return s == s[::-1]\n",
    "\n",
    "s = \"nayan\"\n",
    "ans = isPalindrome(s)\n",
    "\n",
    "if ans:\n",
    "    print(\"True\")\n",
    "else:\n",
    "    print(\"False\")"
   ]
  },
  {
   "cell_type": "markdown",
   "metadata": {},
   "source": [
    "### 06) Write a function that returns the sum of all the elements of the list."
   ]
  },
  {
   "cell_type": "code",
   "execution_count": 43,
   "metadata": {},
   "outputs": [
    {
     "name": "stdout",
     "output_type": "stream",
     "text": [
      "100\n"
     ]
    }
   ],
   "source": [
    "a = [10, 20, 30, 40]\n",
    "res = 0\n",
    "\n",
    "for val in a:\n",
    "  \n",
    "    res += val\n",
    "\n",
    "print(res)"
   ]
  },
  {
   "cell_type": "markdown",
   "metadata": {},
   "source": [
    "### 07) Write a function to calculate the sum of the first element of each tuples inside the list."
   ]
  },
  {
   "cell_type": "code",
   "execution_count": 49,
   "metadata": {},
   "outputs": [
    {
     "data": {
      "text/plain": [
       "5"
      ]
     },
     "execution_count": 49,
     "metadata": {},
     "output_type": "execute_result"
    }
   ],
   "source": [
    "t1 = (2,4,6)\n",
    "t2 = (3,5,7)\n",
    "\n",
    "l1 = (t1,t2)\n",
    "\n",
    "def summation(l1):\n",
    "\n",
    "\tsum = 0\n",
    "    \n",
    "\tfor i,j,k in l1:\n",
    "\t\tsum += i\n",
    "\treturn sum\n",
    "\n",
    "summation(l1)"
   ]
  },
  {
   "cell_type": "markdown",
   "metadata": {},
   "source": [
    "### 08) Write a recursive function to find nth term of Fibonacci Series."
   ]
  },
  {
   "cell_type": "code",
   "execution_count": 55,
   "metadata": {},
   "outputs": [
    {
     "name": "stdout",
     "output_type": "stream",
     "text": [
      "enter an value:\n"
     ]
    },
    {
     "name": "stdin",
     "output_type": "stream",
     "text": [
      " 6\n"
     ]
    },
    {
     "name": "stdout",
     "output_type": "stream",
     "text": [
      "8\n"
     ]
    }
   ],
   "source": [
    "print(\"enter an value:\")\n",
    "n1 = int(input())\n",
    "\n",
    "def nth_fibonacci(n):\n",
    "  \n",
    "    if n <= 1:\n",
    "        return n\n",
    "      \n",
    "    return nth_fibonacci(n - 1) + nth_fibonacci(n - 2)\n",
    "\n",
    "result = nth_fibonacci(n1)\n",
    "print(result)"
   ]
  },
  {
   "cell_type": "markdown",
   "metadata": {},
   "source": [
    "### 09) Write a function to get the name of the student based on the given rollno.\n",
    "#### Example: Given dict1 = {101:'Ajay', 102:'Rahul', 103:'Jay', 104:'Pooja'} find name of student whose rollno = 103"
   ]
  },
  {
   "cell_type": "code",
   "execution_count": 8,
   "metadata": {},
   "outputs": [
    {
     "name": "stdout",
     "output_type": "stream",
     "text": [
      "The name of the student with roll number 103 is Jay.\n"
     ]
    }
   ],
   "source": [
    "def get_student_name(rollno, student_dict):\n",
    "    return student_dict.get(rollno, \"Student not found\")\n",
    "\n",
    "dict1 = {101: 'Ajay', 102: 'Rahul', 103: 'Jay', 104: 'Pooja'}\n",
    "rollno = 103\n",
    "\n",
    "student_name = get_student_name(rollno, dict1)\n",
    "print(f\"The name of the student with roll number {rollno} is {student_name}.\")"
   ]
  },
  {
   "cell_type": "markdown",
   "metadata": {},
   "source": [
    "### 10) Write a function to get the sum of the scores ending with zero.\n",
    "#### Example : scores = [200, 456, 300, 100, 234, 678] \n",
    "#### Ans = 200 + 300 + 100 = 600"
   ]
  },
  {
   "cell_type": "code",
   "execution_count": 10,
   "metadata": {},
   "outputs": [
    {
     "name": "stdout",
     "output_type": "stream",
     "text": [
      "600\n"
     ]
    }
   ],
   "source": [
    "scores = [200, 456, 300, 100, 234, 678]\n",
    "\n",
    "def fn10(scores):\n",
    "    sum1 = 0\n",
    "    for i in scores:\n",
    "        if(i%10 == 0):\n",
    "            sum1 += i\n",
    "    return sum1\n",
    "\n",
    "print(fn10(scores))"
   ]
  },
  {
   "cell_type": "markdown",
   "metadata": {},
   "source": [
    "### 11) Write a function to invert a given Dictionary.\n",
    "#### hint: keys to values & values to keys\n",
    "#### Before : {'a': 10, 'b':20, 'c':30, 'd':40}\n",
    "#### After : {10:'a', 20:'b', 30:'c', 40:'d'}"
   ]
  },
  {
   "cell_type": "code",
   "execution_count": 12,
   "metadata": {},
   "outputs": [
    {
     "name": "stdout",
     "output_type": "stream",
     "text": [
      "Original Dictionary: {'a': 10, 'b': 20, 'c': 30, 'd': 40}\n",
      "Inverted Dictionary: {10: 'a', 20: 'b', 30: 'c', 40: 'd'}\n"
     ]
    }
   ],
   "source": [
    "def invert_dictionary(original_dict):\n",
    "    return {value: key for key, value in original_dict.items()}\n",
    "\n",
    "original_dict = {'a': 10, 'b': 20, 'c': 30, 'd': 40}\n",
    "inverted_dict = invert_dictionary(original_dict)\n",
    "print(\"Original Dictionary:\", original_dict)\n",
    "print(\"Inverted Dictionary:\", inverted_dict)"
   ]
  },
  {
   "cell_type": "markdown",
   "metadata": {},
   "source": [
    "### 12) Write a function to check whether the given string is Pangram or not.\n",
    "#### hint: Pangram is a string containing all the characters a-z atlest once.\n",
    "#### \"the quick brown fox jumps over the lazy dog\" is a Pangram string."
   ]
  },
  {
   "cell_type": "code",
   "execution_count": 14,
   "metadata": {},
   "outputs": [
    {
     "name": "stdout",
     "output_type": "stream",
     "text": [
      "\"The quick brown fox jumps over the lazy dog\" is a pangram.\n"
     ]
    }
   ],
   "source": [
    "def is_pangram(input_string):\n",
    "    alphabet = set('abcdefghijklmnopqrstuvwxyz')\n",
    "    input_characters = set(input_string.lower())\n",
    "    return alphabet.issubset(input_characters)\n",
    "\n",
    "test_string = \"The quick brown fox jumps over the lazy dog\"\n",
    "if is_pangram(test_string):\n",
    "    print(f'\"{test_string}\" is a pangram.')\n",
    "else:\n",
    "    print(f'\"{test_string}\" is NOT a pangram.')"
   ]
  },
  {
   "cell_type": "markdown",
   "metadata": {},
   "source": [
    "### 13) Write a function that returns the number of uppercase and lowercase letters in the given string. \n",
    "#### example : Input : s1 = AbcDEfgh ,Ouptput : no_upper = 3, no_lower = 5"
   ]
  },
  {
   "cell_type": "code",
   "execution_count": 16,
   "metadata": {},
   "outputs": [
    {
     "name": "stdout",
     "output_type": "stream",
     "text": [
      "no_upper=3,no_lower=5\n"
     ]
    }
   ],
   "source": [
    "def fn13(s):\n",
    "    dict1 = {\"upper\":0,\"lower\":0}\n",
    "    for i in s:\n",
    "        if(i.islower()):\n",
    "            dict1[\"lower\"]+=1\n",
    "        else:\n",
    "            dict1[\"upper\"]+=1\n",
    "    print(f\"no_upper={dict1[\"upper\"]},no_lower={dict1[\"lower\"]}\")\n",
    "\n",
    "s1 = \"AbcDEfgh\"\n",
    "fn13(s1)"
   ]
  },
  {
   "cell_type": "markdown",
   "metadata": {},
   "source": [
    "### 14) Write a lambda function to get smallest number from the given two numbers."
   ]
  },
  {
   "cell_type": "code",
   "execution_count": 18,
   "metadata": {},
   "outputs": [
    {
     "name": "stdout",
     "output_type": "stream",
     "text": [
      "20\n"
     ]
    }
   ],
   "source": [
    "ans = lambda x,y : x if x>y else y\n",
    "print(ans(10,20))"
   ]
  },
  {
   "cell_type": "markdown",
   "metadata": {},
   "source": [
    "### 15) For the given list of names of students, extract the names having more that 7 characters. Use filter()."
   ]
  },
  {
   "cell_type": "code",
   "execution_count": 34,
   "metadata": {},
   "outputs": [
    {
     "name": "stdout",
     "output_type": "stream",
     "text": [
      "['Superman', 'Homeleander']\n"
     ]
    }
   ],
   "source": [
    "l = [\"Keval\",\"Karan\",\"Darshan\",\"Ironman\",\"Superman\",\"Homeleander\"]\n",
    "\n",
    "l2 = list(filter(lambda i : len(i)>7,l))\n",
    "\n",
    "print(l2)"
   ]
  },
  {
   "cell_type": "markdown",
   "metadata": {},
   "source": [
    "### 16) For the given list of names of students, convert the first letter of all the names into uppercase. use map()."
   ]
  },
  {
   "cell_type": "code",
   "execution_count": 26,
   "metadata": {},
   "outputs": [
    {
     "name": "stdout",
     "output_type": "stream",
     "text": [
      "['Keval', 'Karan', 'Darshan', 'Ironman', 'Superman']\n"
     ]
    }
   ],
   "source": [
    "l = [\"keval\",\"karan\",\"darshan\",\"ironman\",\"superman\"]\n",
    "\n",
    "l = list(map(lambda i : i.capitalize(),l))\n",
    "\n",
    "print(l)"
   ]
  },
  {
   "cell_type": "markdown",
   "metadata": {},
   "source": [
    "### 17) Write udfs to call the functions with following types of arguments:\n",
    "1. Positional Arguments\n",
    "2. Keyword Arguments\n",
    "3. Default Arguments\n",
    "4. Variable Legngth Positional(*args) & variable length Keyword Arguments (**kwargs)\n",
    "5. Keyword-Only & Positional Only Arguments"
   ]
  },
  {
   "cell_type": "code",
   "execution_count": 32,
   "metadata": {},
   "outputs": [
    {
     "name": "stdout",
     "output_type": "stream",
     "text": [
      "1 2 3\n"
     ]
    }
   ],
   "source": [
    "#position argument\n",
    "# def add(a,b):\n",
    "#     return a+b\n",
    "# print(add(10,20))\n",
    "\n",
    "\n",
    "#Keyword Argument\n",
    "# def add3(a,b,c):\n",
    "#     return a+b+c\n",
    "\n",
    "# print(add3(b=10,c=20,a=5))\n",
    "#print(add3(b=10,c=20,10))  it's not working\n",
    "\n",
    "\n",
    "\n",
    "#default argument\n",
    "# def add4(a,b,c,d=10):\n",
    "#     return a+b+c+d\n",
    "# print(add4(10,20,30,40))\n",
    "# print(add4(10,20,30))\n",
    "\n",
    "\n",
    "# *args\n",
    "# def add5(*args):\n",
    "#     sum1 = 0\n",
    "#     for i in args:\n",
    "#         sum1 += i\n",
    "#     return sum1\n",
    "# print(add5(1,2,3,4,5))\n",
    "\n",
    "\n",
    "# **kwargs\n",
    "# def addstu(**kwargs):\n",
    "#     for i in kwargs.items():\n",
    "#         print(i)\n",
    "\n",
    "# addstu(Keval=384,Chirag=373,Harsh=123,Darshan=245)\n",
    "\n",
    "#only keyword\n",
    "#def fn2(*,a,b,c):\n",
    "#    print(a,b,c,sep=\" \")\n",
    "#fn2(b=10,a=2,c=3)\n",
    "\n",
    "#only positional\n",
    "\n",
    "def fn(a,b,c,/):\n",
    "    print(a,b,c,sep=\" \")\n",
    "fn(1,2,3)"
   ]
  }
 ],
 "metadata": {
  "kernelspec": {
   "display_name": "Python 3 (ipykernel)",
   "language": "python",
   "name": "python3"
  },
  "language_info": {
   "codemirror_mode": {
    "name": "ipython",
    "version": 3
   },
   "file_extension": ".py",
   "mimetype": "text/x-python",
   "name": "python",
   "nbconvert_exporter": "python",
   "pygments_lexer": "ipython3",
   "version": "3.12.7"
  }
 },
 "nbformat": 4,
 "nbformat_minor": 4
}
