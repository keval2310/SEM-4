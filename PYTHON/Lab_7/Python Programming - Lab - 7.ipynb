{
 "cells": [
  {
   "cell_type": "markdown",
   "metadata": {},
   "source": [
    "<a href='https://www.darshan.ac.in/'> <img src='https://www.darshan.ac.in/Content/media/DU_Logo.svg' width=\"250\" height=\"300\"/></a>\n",
    "<pre>\n",
    "<center><b><h1>Python Programming - 2301CS404</b></center>\n",
    "<center><b><h1>Lab - 7</b></center>   \n",
    "    <center><b><h1>Keval Dhandhukiya</b></center>  \n",
    "        <center><b><h1>23010101064</b></center>  \n",
    "<pre>"
   ]
  },
  {
   "cell_type": "markdown",
   "metadata": {},
   "source": [
    "# Set & Dictionary"
   ]
  },
  {
   "cell_type": "markdown",
   "metadata": {},
   "source": [
    "### 01) WAP to iterate over a set."
   ]
  },
  {
   "cell_type": "code",
   "execution_count": 15,
   "metadata": {},
   "outputs": [
    {
     "name": "stdout",
     "output_type": "stream",
     "text": [
      "K\n",
      "e\n",
      "l\n",
      "a\n",
      "v\n"
     ]
    }
   ],
   "source": [
    "s1 = set(\"Keval\")\n",
    " \n",
    "for val in s1:\n",
    "    print(val)"
   ]
  },
  {
   "cell_type": "markdown",
   "metadata": {},
   "source": [
    "### 02) WAP to convert set into list, string and tuple."
   ]
  },
  {
   "cell_type": "code",
   "execution_count": 9,
   "metadata": {},
   "outputs": [
    {
     "name": "stdout",
     "output_type": "stream",
     "text": [
      "[2, 4, 5, 6, 7] (2, 4, 5, 6, 7) {2, 4, 5, 6, 7}\n"
     ]
    }
   ],
   "source": [
    "s2 = {2,4,5,6,7}\n",
    "new1 = list(s2)\n",
    "new2 = tuple(s2)\n",
    "new3 = str(s2)\n",
    "print(new1,new2,new3)"
   ]
  },
  {
   "cell_type": "markdown",
   "metadata": {},
   "source": [
    "### 03) WAP to find Maximum and Minimum from a set."
   ]
  },
  {
   "cell_type": "code",
   "execution_count": 5,
   "metadata": {},
   "outputs": [
    {
     "name": "stdout",
     "output_type": "stream",
     "text": [
      "Maximum: 18\n",
      "Minimum: 1\n"
     ]
    }
   ],
   "source": [
    "s3 = {5, 2, 8, 1, 9, 2, 18}\n",
    "\n",
    "s4 = list(s3)\n",
    "\n",
    "maximum = max(s4)\n",
    "minimum = min(s4)\n",
    "\n",
    "print(\"Maximum:\", maximum)\n",
    "print(\"Minimum:\", minimum)"
   ]
  },
  {
   "cell_type": "markdown",
   "metadata": {},
   "source": [
    "### 04) WAP to perform union of two sets."
   ]
  },
  {
   "cell_type": "code",
   "execution_count": 7,
   "metadata": {},
   "outputs": [
    {
     "name": "stdout",
     "output_type": "stream",
     "text": [
      "{1, 3, 4, 5, 6, 7, 8, 9}\n"
     ]
    }
   ],
   "source": [
    "s5 = {1,4,5,7,8}\n",
    "s6 = {1,3,5,9,6}\n",
    "new_set = s5.union(s6)\n",
    "print(new_set)"
   ]
  },
  {
   "cell_type": "markdown",
   "metadata": {},
   "source": [
    "### 05) WAP to check if two lists have at-least one element common."
   ]
  },
  {
   "cell_type": "code",
   "execution_count": 17,
   "metadata": {},
   "outputs": [
    {
     "name": "stdout",
     "output_type": "stream",
     "text": [
      "True\n"
     ]
    }
   ],
   "source": [
    "a = [1, 2, 3, 4]\n",
    "b = [3, 5, 6]\n",
    "\n",
    "common = set(a) & set(b)\n",
    "\n",
    "print(bool(common))"
   ]
  },
  {
   "cell_type": "markdown",
   "metadata": {},
   "source": [
    "### 06) WAP to remove duplicates from list."
   ]
  },
  {
   "cell_type": "code",
   "execution_count": 19,
   "metadata": {},
   "outputs": [
    {
     "name": "stdout",
     "output_type": "stream",
     "text": [
      "[1, 2, 3, 4, 5]\n"
     ]
    }
   ],
   "source": [
    "c = [1, 2, 2, 3, 4, 4, 5]\n",
    "\n",
    "unique_list = list(set(c))\n",
    "print(unique_list)"
   ]
  },
  {
   "cell_type": "markdown",
   "metadata": {},
   "source": [
    "### 07) WAP to find unique words in the given string."
   ]
  },
  {
   "cell_type": "code",
   "execution_count": 33,
   "metadata": {},
   "outputs": [
    {
     "name": "stdin",
     "output_type": "stream",
     "text": [
      "Please enter a sentence:  python is very easy\n"
     ]
    },
    {
     "name": "stdout",
     "output_type": "stream",
     "text": [
      "Total words:  ['python', 'is', 'very', 'easy']\n",
      "Unique words:  {'e', 'r', 'o', 't', 'y', 'p', 'h', 's', 'v', 'a', 'i', 'n', ' '}\n"
     ]
    }
   ],
   "source": [
    "str1 = input(\"Enter a sentence: \")\n",
    "\n",
    "print(\"Total words: \", str1.split())\n",
    "\n",
    "unique = set(str1)\n",
    "print(\"Unique words: \",unique)"
   ]
  },
  {
   "cell_type": "markdown",
   "metadata": {},
   "source": [
    "### 08) WAP to remove common elements of set A & B from set A."
   ]
  },
  {
   "cell_type": "code",
   "execution_count": 25,
   "metadata": {},
   "outputs": [
    {
     "name": "stdout",
     "output_type": "stream",
     "text": [
      "[1, 2, 3, 8, 6, 7]\n"
     ]
    }
   ],
   "source": [
    "d = [1, 2, 3, 4, 5]\n",
    "e = [4, 5, 6, 7, 8]\n",
    "\n",
    "result1 = list(set(d) - set(e)) \n",
    "result2 = list(set(e) - set(d)) \n",
    "\n",
    "f = result1 + result2\n",
    "print(f)"
   ]
  },
  {
   "cell_type": "markdown",
   "metadata": {},
   "source": [
    "### 09) WAP to check whether two given strings are anagram or not using set."
   ]
  },
  {
   "cell_type": "code",
   "execution_count": 37,
   "metadata": {},
   "outputs": [
    {
     "name": "stdout",
     "output_type": "stream",
     "text": [
      "Anagrams\n"
     ]
    }
   ],
   "source": [
    "def isAnagram(str1, str2):  \n",
    "       \n",
    "    if len(str1) != len(str2):  \n",
    "        return False  \n",
    "        \n",
    "    if sorted(str1) == sorted(str2):  \n",
    "        return True  \n",
    "    else:  \n",
    "        return False  \n",
    "  \n",
    "str1 = \"pythontpoint\"  \n",
    "str2 = \"tnioptnohtyp\"\n",
    "  \n",
    "if isAnagram(str1, str2):  \n",
    "    print(\"Anagrams\")  \n",
    "else:  \n",
    "    print(\"Not Anagrams\")  "
   ]
  },
  {
   "cell_type": "markdown",
   "metadata": {},
   "source": [
    "### 10) WAP to find common elements in three lists using set."
   ]
  },
  {
   "cell_type": "code",
   "execution_count": 39,
   "metadata": {},
   "outputs": [
    {
     "name": "stdout",
     "output_type": "stream",
     "text": [
      "First =  [5, 10, 15, 20, 25]\n",
      "Second =  [2, 5, 6, 7, 10, 15, 18, 20]\n",
      "Third =  [10, 20, 30, 40, 50, 60]\n",
      "Common elements =  [10, 20]\n"
     ]
    }
   ],
   "source": [
    "myArr1 = [5, 10, 15, 20, 25]\n",
    "myArr2 = [2, 5, 6, 7, 10, 15, 18, 20]\n",
    "myArr3 = [10, 20, 30, 40, 50, 60]\n",
    "\n",
    "print(\"First = \",myArr1)\n",
    "print(\"Second = \",myArr2)\n",
    "print(\"Third = \",myArr3)\n",
    "\n",
    "output_set = set(myArr1) & set(myArr2) & set(myArr3);\n",
    "\n",
    "final_list = list(output_set)\n",
    "print(\"Common elements = \",final_list)"
   ]
  },
  {
   "cell_type": "markdown",
   "metadata": {},
   "source": [
    "### 11) WAP to count number of vowels in given string using set."
   ]
  },
  {
   "cell_type": "code",
   "execution_count": 43,
   "metadata": {},
   "outputs": [
    {
     "name": "stdout",
     "output_type": "stream",
     "text": [
      "5\n"
     ]
    }
   ],
   "source": [
    "string = \"GeekforGeeks!\"\n",
    "vowel = \"aeiouAEIOU\"\n",
    "\n",
    "count = sum(string.count(vowel) for vowel in vowel)\n",
    "print(count)"
   ]
  },
  {
   "cell_type": "markdown",
   "metadata": {},
   "source": [
    "### 12) WAP to check if a given string is binary string or not."
   ]
  },
  {
   "cell_type": "code",
   "execution_count": 49,
   "metadata": {},
   "outputs": [
    {
     "name": "stdout",
     "output_type": "stream",
     "text": [
      "Yes\n"
     ]
    }
   ],
   "source": [
    "string1 = \"01010101010\"\n",
    "if(string1.count('0')+string1.count('1')==len(string1)):\n",
    "\tprint(\"Yes\")\n",
    "else:\n",
    "\tprint(\"No\")"
   ]
  },
  {
   "cell_type": "markdown",
   "metadata": {},
   "source": [
    "### 13) WAP to sort dictionary by key or value."
   ]
  },
  {
   "cell_type": "code",
   "execution_count": 51,
   "metadata": {},
   "outputs": [
    {
     "name": "stdout",
     "output_type": "stream",
     "text": [
      "{'rajnish': 9, 'ravi': 10, 'sanjeev': 15}\n"
     ]
    }
   ],
   "source": [
    "d = {'ravi': 10, 'rajnish': 9, 'sanjeev': 15}\n",
    "\n",
    "myKeys = list(d.keys())\n",
    "myKeys.sort()\n",
    "\n",
    "sd = {i: d[i] for i in myKeys}\n",
    "print(sd)"
   ]
  },
  {
   "cell_type": "markdown",
   "metadata": {},
   "source": [
    "### 14) WAP to find the sum of all items (values) in a dictionary given by user. (Assume: values are numeric)"
   ]
  },
  {
   "cell_type": "code",
   "execution_count": 53,
   "metadata": {},
   "outputs": [
    {
     "name": "stdout",
     "output_type": "stream",
     "text": [
      "Sum : 600\n"
     ]
    }
   ],
   "source": [
    "def returnSum(myDict):\n",
    "\n",
    "\tlist = []\n",
    "\tfor i in myDict:\n",
    "\t\tlist.append(myDict[i])\n",
    "\tfinal = sum(list)\n",
    "\n",
    "\treturn final\n",
    "    \n",
    "dict = {'a': 100, 'b': 200, 'c': 300}\n",
    "print(\"Sum :\", returnSum(dict))"
   ]
  },
  {
   "cell_type": "markdown",
   "metadata": {},
   "source": [
    "### 15) WAP to handle missing keys in dictionaries.\n",
    "#### Example : Given, dict1 = {'a': 5, 'c': 8, 'e': 2} \n",
    "#### if you look for key = 'd', the message given should be 'Key Not Found', otherwise print the value of 'd' in dict1."
   ]
  },
  {
   "cell_type": "code",
   "execution_count": 57,
   "metadata": {},
   "outputs": [
    {
     "name": "stdout",
     "output_type": "stream",
     "text": [
      "Key not found\n"
     ]
    }
   ],
   "source": [
    "dict1 = {'a': 5, 'c': 8, 'e': 2}\n",
    "if \"q\" in dict1:\n",
    "\tprint(dict1[\"d\"])\n",
    "else:\n",
    "\tprint(\"Key not found\")"
   ]
  }
 ],
 "metadata": {
  "kernelspec": {
   "display_name": "Python 3 (ipykernel)",
   "language": "python",
   "name": "python3"
  },
  "language_info": {
   "codemirror_mode": {
    "name": "ipython",
    "version": 3
   },
   "file_extension": ".py",
   "mimetype": "text/x-python",
   "name": "python",
   "nbconvert_exporter": "python",
   "pygments_lexer": "ipython3",
   "version": "3.12.7"
  }
 },
 "nbformat": 4,
 "nbformat_minor": 4
}
